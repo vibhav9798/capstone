{
 "cells": [
  {
   "cell_type": "code",
   "execution_count": null,
   "id": "9f11ee49",
   "metadata": {},
   "outputs": [],
   "source": [
    "!pip install dash --upgrade\n",
    "!pip install plotly --upgrade"
   ]
  },
  {
   "cell_type": "code",
   "execution_count": null,
   "id": "a41dd7f5",
   "metadata": {},
   "outputs": [],
   "source": [
    "import dash\n",
    "import dash_core_components as dcc\n",
    "import dash_html_components as html\n",
    "from dash.dependencies import Input, Output\n",
    "import plotly.express as px\n",
    "import pandas as pd"
   ]
  },
  {
   "cell_type": "code",
   "execution_count": 90,
   "id": "f999c0ad",
   "metadata": {},
   "outputs": [],
   "source": [
    "app = dash.Dash(__name__)\n"
   ]
  },
  {
   "cell_type": "code",
   "execution_count": null,
   "id": "3eae75bc",
   "metadata": {},
   "outputs": [],
   "source": [
    "url = \"https://cf-courses-data.s3.us.cloud-object-storage.appdomain.cloud/IBM-DS0321EN-SkillsNetwork/datasets/spacex_launch_geo.csv\"\n",
    "\n",
    "# Use pandas to read the CSV file and store it in a DataFrame\n",
    "spacex_df = pd.read_csv(url)"
   ]
  },
  {
   "cell_type": "code",
   "execution_count": null,
   "id": "e3019f52",
   "metadata": {},
   "outputs": [],
   "source": [
    "options = [\n",
    "    {'label': 'All Sites', 'value': 'ALL'},\n",
    "    {'label': 'CCAFS LC-40', 'value': 'CCAFS LC-40'},\n",
    "    {'label': 'VAFB SLC-4E', 'value': 'VAFB SLC-4E'},\n",
    "    {'label': 'KSC LC-39A', 'value': 'KSC LC-39A'},\n",
    "    {'label': 'CCAFS SLC-40', 'value': 'CCAFS SLC-40'}\n",
    "]"
   ]
  },
  {
   "cell_type": "code",
   "execution_count": 91,
   "id": "f8ce75d7",
   "metadata": {},
   "outputs": [],
   "source": [
    "app.layout = html.Div([\n",
    "    html.H1(\"SPACEX LAUNCH RECORDS DASHBOARD\", style = {'text-align': 'center'}),\n",
    "    dcc.Dropdown(\n",
    "        id='dropdown-input',\n",
    "        options=options,\n",
    "        value='ALL',\n",
    "        placeholder=\"CCAFS SLC-40\",  # Set your placeholder here\n",
    "        searchable=True\n",
    "    ),\n",
    "    dcc.Graph(id=\"success-pie-chart\"),\n",
    "    dcc.Graph(id=\"payload-scatter-plot\"),\n",
    "     html.Div([\n",
    "        html.Label(\"Payload Range Slider\", style={'font-weight': 'bold'}),\n",
    "        dcc.RangeSlider(id='payload-slider',\n",
    "                min=0, max=10000, step=1000,\n",
    "                value=[0, 10000])\n",
    "     ])\n",
    "    # Add other components as needed\n",
    "])\n"
   ]
  },
  {
   "cell_type": "code",
   "execution_count": 92,
   "id": "a8eb955f",
   "metadata": {},
   "outputs": [],
   "source": [
    "# Function decorator to specify function input and output\n",
    "@app.callback([Output(component_id='success-pie-chart', component_property='figure'),\n",
    "              Output(component_id='payload-scatter-plot', component_property='figure')],\n",
    "              [Input(component_id='dropdown-input', component_property='value'),Input('payload-slider', 'value')])\n",
    "def get_pie_chart(entered_site, payload_range):\n",
    "    if entered_site == 'ALL':\n",
    "        filtered_df = spacex_df[(spacex_df['Payload Mass (kg)'] >= payload_range[0]) & \n",
    "                            (spacex_df['Payload Mass (kg)'] <= payload_range[1])]\n",
    "        fig = px.pie(filtered_df, values='class', \n",
    "        names='Launch Site', \n",
    "        title='Success Rate for all Launch Sites')\n",
    "    else:\n",
    "        # return the outcomes piechart for a selected site\n",
    "        filtered_df = spacex_df[(spacex_df['Payload Mass (kg)'] >= payload_range[0]) & \n",
    "                            (spacex_df['Payload Mass (kg)'] <= payload_range[1]) &\n",
    "                                (spacex_df['Launch Site'] == entered_site)]\n",
    "        success_count = filtered_df['class'].sum()\n",
    "        failure_count = len(filtered_df) - success_count\n",
    "        count = [success_count, failure_count]\n",
    "        fig = px.pie(filtered_df, values=count, \n",
    "        names=[1,0], \n",
    "        title=f'Success Rate for {entered_site}')\n",
    "        \n",
    "    if entered_site == 'ALL':\n",
    "        # If ALL sites are selected, render a scatter plot with all data\n",
    "        scatter_df = spacex_df[(spacex_df['Payload Mass (kg)'] >= payload_range[0]) & \n",
    "                            (spacex_df['Payload Mass (kg)'] <= payload_range[1])]\n",
    "        title = 'Payload Mass vs. Class (All Sites)'\n",
    "        scatter_fig = px.scatter(\n",
    "            scatter_df,\n",
    "            x='Payload Mass (kg)',\n",
    "            y='class',\n",
    "            color='Booster Version',\n",
    "            title=title\n",
    "        )\n",
    "    else:\n",
    "        # If a specific launch site is selected, filter spacex_df\n",
    "        scatter_df = spacex_df[(spacex_df['Payload Mass (kg)'] >= payload_range[0]) & \n",
    "                            (spacex_df['Payload Mass (kg)'] <= payload_range[1]) &\n",
    "                               (spacex_df['Launch Site'] == entered_site)]\n",
    "        title = f'Payload Mass vs. Class ({entered_site})'\n",
    "        scatter_fig = px.scatter(\n",
    "            scatter_df,\n",
    "            x='Payload Mass (kg)',\n",
    "            y='class',\n",
    "            color='Booster Version',\n",
    "            title=title\n",
    "        )\n",
    "\n",
    "    return fig, scatter_fig"
   ]
  },
  {
   "cell_type": "code",
   "execution_count": 102,
   "id": "a7a8c728",
   "metadata": {},
   "outputs": [
    {
     "data": {
      "text/html": [
       "\n",
       "        <iframe\n",
       "            width=\"100%\"\n",
       "            height=\"650\"\n",
       "            src=\"http://127.0.0.1:8050/\"\n",
       "            frameborder=\"0\"\n",
       "            allowfullscreen\n",
       "            \n",
       "        ></iframe>\n",
       "        "
      ],
      "text/plain": [
       "<IPython.lib.display.IFrame at 0x2a26a9873a0>"
      ]
     },
     "metadata": {},
     "output_type": "display_data"
    }
   ],
   "source": [
    "if __name__ == '__main__':\n",
    "    app.run_server(mode = \"inline\",debug=True)"
   ]
  }
 ],
 "metadata": {
  "kernelspec": {
   "display_name": "Python 3 (ipykernel)",
   "language": "python",
   "name": "python3"
  },
  "language_info": {
   "codemirror_mode": {
    "name": "ipython",
    "version": 3
   },
   "file_extension": ".py",
   "mimetype": "text/x-python",
   "name": "python",
   "nbconvert_exporter": "python",
   "pygments_lexer": "ipython3",
   "version": "3.9.12"
  }
 },
 "nbformat": 4,
 "nbformat_minor": 5
}
